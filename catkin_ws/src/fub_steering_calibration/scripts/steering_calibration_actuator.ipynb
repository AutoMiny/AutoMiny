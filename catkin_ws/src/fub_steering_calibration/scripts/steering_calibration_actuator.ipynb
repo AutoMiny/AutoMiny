{
 "cells": [
  {
   "cell_type": "markdown",
   "metadata": {},
   "source": [
    "# RO 04\n",
    "Franziska Boenisch / Christoph Brockmann\n",
    "## Task 2:"
   ]
  },
  {
   "cell_type": "code",
   "execution_count": 1,
   "metadata": {},
   "outputs": [
    {
     "ename": "ImportError",
     "evalue": "No module named 'rospkg'",
     "output_type": "error",
     "traceback": [
      "\u001b[0;31m---------------------------------------------------------------------------\u001b[0m",
      "\u001b[0;31mImportError\u001b[0m                               Traceback (most recent call last)",
      "\u001b[0;32m<ipython-input-1-13568bf9b44f>\u001b[0m in \u001b[0;36m<module>\u001b[0;34m()\u001b[0m\n\u001b[1;32m      4\u001b[0m \u001b[0;31m# imports\u001b[0m\u001b[0;34m\u001b[0m\u001b[0;34m\u001b[0m\u001b[0m\n\u001b[1;32m      5\u001b[0m \u001b[0;32mimport\u001b[0m \u001b[0msys\u001b[0m\u001b[0;34m\u001b[0m\u001b[0m\n\u001b[0;32m----> 6\u001b[0;31m \u001b[0;32mimport\u001b[0m \u001b[0mroslib\u001b[0m\u001b[0;34m\u001b[0m\u001b[0m\n\u001b[0m\u001b[1;32m      7\u001b[0m \u001b[0;32mimport\u001b[0m \u001b[0mrospy\u001b[0m\u001b[0;34m\u001b[0m\u001b[0m\n\u001b[1;32m      8\u001b[0m \u001b[0;32mimport\u001b[0m \u001b[0mnumpy\u001b[0m \u001b[0;32mas\u001b[0m \u001b[0mnp\u001b[0m\u001b[0;34m\u001b[0m\u001b[0m\n",
      "\u001b[0;32m/opt/ros/kinetic/lib/python2.7/dist-packages/roslib/__init__.py\u001b[0m in \u001b[0;36m<module>\u001b[0;34m()\u001b[0m\n\u001b[1;32m     48\u001b[0m \u001b[0m__version__\u001b[0m \u001b[0;34m=\u001b[0m \u001b[0;34m'1.7.0'\u001b[0m\u001b[0;34m\u001b[0m\u001b[0m\n\u001b[1;32m     49\u001b[0m \u001b[0;34m\u001b[0m\u001b[0m\n\u001b[0;32m---> 50\u001b[0;31m \u001b[0;32mfrom\u001b[0m \u001b[0mroslib\u001b[0m\u001b[0;34m.\u001b[0m\u001b[0mlauncher\u001b[0m \u001b[0;32mimport\u001b[0m \u001b[0mload_manifest\u001b[0m\u001b[0;34m\u001b[0m\u001b[0m\n\u001b[0m\u001b[1;32m     51\u001b[0m \u001b[0;34m\u001b[0m\u001b[0m\n\u001b[1;32m     52\u001b[0m \u001b[0;31m# this import is necessary due to a bug in purge_build.py in our\u001b[0m\u001b[0;34m\u001b[0m\u001b[0;34m\u001b[0m\u001b[0m\n",
      "\u001b[0;32m/opt/ros/kinetic/lib/python2.7/dist-packages/roslib/launcher.py\u001b[0m in \u001b[0;36m<module>\u001b[0;34m()\u001b[0m\n\u001b[1;32m     40\u001b[0m \u001b[0;32mimport\u001b[0m \u001b[0msys\u001b[0m\u001b[0;34m\u001b[0m\u001b[0m\n\u001b[1;32m     41\u001b[0m \u001b[0;34m\u001b[0m\u001b[0m\n\u001b[0;32m---> 42\u001b[0;31m \u001b[0;32mimport\u001b[0m \u001b[0mrospkg\u001b[0m\u001b[0;34m\u001b[0m\u001b[0m\n\u001b[0m\u001b[1;32m     43\u001b[0m \u001b[0;34m\u001b[0m\u001b[0m\n\u001b[1;32m     44\u001b[0m \u001b[0;31m# bootstrapped keeps track of which packages we've loaded so we don't\u001b[0m\u001b[0;34m\u001b[0m\u001b[0;34m\u001b[0m\u001b[0m\n",
      "\u001b[0;31mImportError\u001b[0m: No module named 'rospkg'"
     ]
    }
   ],
   "source": [
    "#!/usr/bin/env python\n",
    "# coding: utf-8\n",
    "\n",
    "# imports\n",
    "import sys\n",
    "import roslib\n",
    "import rospy\n",
    "import numpy as np\n",
    "import matplotlib.pyplot as plt\n",
    "import pickle\n",
    "\n",
    "# Message types\n",
    "from std_msgs.msg import String\n",
    "from std_msgs.msg import Int16\n",
    "from sensor_msgs.msg import LaserScan"
   ]
  },
  {
   "cell_type": "code",
   "execution_count": null,
   "metadata": {
    "collapsed": true
   },
   "outputs": [],
   "source": [
    "%matplotlib inline"
   ]
  },
  {
   "cell_type": "code",
   "execution_count": null,
   "metadata": {
    "collapsed": true
   },
   "outputs": [],
   "source": [
    "angles = [0,30,60,90,105,120,150,180]"
   ]
  },
  {
   "cell_type": "code",
   "execution_count": null,
   "metadata": {
    "collapsed": true
   },
   "outputs": [],
   "source": [
    "def evaluate_lidar(data, set_a=90, sanity=False):\n",
    "\n",
    "    # convert to x,y\n",
    "    off = data.angle_min\n",
    "    inc = data.angle_increment\n",
    "    l = len(data.ranges)\n",
    "\n",
    "    # X: Liste von Listen, y Liste voller Nullen\n",
    "    X = np.ones((l,5))\n",
    "\n",
    "    # assuming data comes in rad\n",
    "    for i in range(l):\n",
    "        a = ((off + i*inc) - np.pi/2) % (2*np.pi)\n",
    "        #if a < 0:\n",
    "        #   a = 2*np.pi - a\n",
    "        # a = (i*inc)\n",
    "        v = np.array([np.cos(a), np.sin(a)])  # vgl. Kreisformel\n",
    "        p = data.ranges[i] * v\n",
    "        X[i,0] = p[0]\n",
    "        X[i,2] = p[1]\n",
    "        X[i,3] = data.ranges[i]\n",
    "        X[i,4] = a\n",
    "    \n",
    "    # do some cleanup\n",
    "    # infinity is to far to fit    \n",
    "    X = X[X[:,0] != np.inf]\n",
    "    X = X[X[:,0] != -np.inf]\n",
    "    \n",
    "    if sanity:\n",
    "        # pull a copy for plotting\n",
    "        Y = X.copy()\n",
    "    \n",
    "    # we need to find the fricking table\n",
    "    dist = 2.5\n",
    "    # guess the direction of the table from steering angle\n",
    "    base = np.pi/4 + (np.pi/4)*(set_a/90)\n",
    "    ang = np.pi/8\n",
    "    # data should be in front of us\n",
    "    X = X[X[:,4] > base - ang]\n",
    "    X = X[X[:,4] < base + ang]\n",
    "    # and not to far away\n",
    "    X = X[X[:,3] < dist]\n",
    "    \n",
    "    # print(X)\n",
    "    # fit table as line:   \n",
    "    a, b = np.linalg.lstsq(X[:,0:2], X[:,2], rcond=-1)[0]\n",
    "\n",
    "    # get d\n",
    "    if a == 0:\n",
    "        alpha = np.pi \n",
    "        d = b\n",
    "    elif a > 0:\n",
    "        alpha = np.pi/2 - np.arctan(a)\n",
    "        d = np.sin(alpha) * b\n",
    "    else:\n",
    "        alpha = np.pi/2 + np.arctan(a)\n",
    "        d = np.sin(alpha) * b\n",
    "    \n",
    "    # alpha is the smallest angle to the table\n",
    "    alpha = alpha % np.pi/2\n",
    "    d = abs(d)\n",
    "    \n",
    "    if sanity:\n",
    "        x = Y[:,0]\n",
    "        y = Y[:,2]\n",
    "        plt.scatter(x, y)\n",
    "        plt.scatter([0], [0],color='r')\n",
    "        plt.plot(x, a*x + b, 'r')\n",
    "        ax = plt.gca()\n",
    "        ci = plt.Circle((0, 0), d, color='b', fill=False)\n",
    "        ax.add_artist(ci)\n",
    "        ax.set_xlim((-5, 5))\n",
    "        ax.set_ylim((-5, 5))\n",
    "        plt.axes().set_aspect('equal', 'datalim')\n",
    "        plt.show()\n",
    "    \n",
    "    return(a, b, d, alpha)"
   ]
  },
  {
   "cell_type": "code",
   "execution_count": null,
   "metadata": {
    "collapsed": true
   },
   "outputs": [],
   "source": [
    "def calc_wheel_angle(results):\n",
    "    # this implements the formulas on Sketch 3,4\n",
    "    l = 0.26        # 26cm in m\n",
    "    # unpack\n",
    "    d_01 = results[0][2]\n",
    "    d_02 = results[1][2]\n",
    "    # via sum of angles: theta_02 = 180 - 90 - alpha\n",
    "    theta_02 = np.pi/2 - results[1][3]\n",
    "    \n",
    "    # calc\n",
    "    R = (d_02 - d_01) / np.sin(theta_02)\n",
    "    gamma = np.arcsin(l/R)\n",
    "    \n",
    "    return(R, gamma)"
   ]
  },
  {
   "cell_type": "code",
   "execution_count": null,
   "metadata": {
    "collapsed": true,
    "scrolled": true
   },
   "outputs": [],
   "source": [
    "final_data = np.zeros((len(angles), 3))\n",
    "final_data[:,0] = angles\n",
    "i = 0\n",
    "for angle in angles:\n",
    "    print(\"\\n\\n Angle Setting:\"+str(angle))\n",
    "    results = [None, None]\n",
    "    for set in range(1,3):\n",
    "        #read file\n",
    "        filename = \"scans/steering_\"+str(angle)+\"_0\"+str(set)+\".pkl\"\n",
    "        with open(filename, 'rb') as input:\n",
    "            data = pickle.load(input)\n",
    "        # giving the steering angle so we know where to \n",
    "        # look for the table \n",
    "        if set == 1:\n",
    "            results[set-1] = evaluate_lidar(data, 90, sanity=True)\n",
    "        else:\n",
    "            results[set-1] = evaluate_lidar(data, angle, sanity=True)\n",
    "   \n",
    "    print(results)\n",
    "    \n",
    "    results2 = calc_wheel_angle(results)\n",
    "    print(results2)\n",
    "    \n",
    "    final_data[i,1:3] = results2\n",
    "    i += 1"
   ]
  },
  {
   "cell_type": "code",
   "execution_count": null,
   "metadata": {
    "collapsed": true
   },
   "outputs": [],
   "source": [
    "print(final_data)"
   ]
  },
  {
   "cell_type": "code",
   "execution_count": null,
   "metadata": {
    "collapsed": true,
    "scrolled": true
   },
   "outputs": [],
   "source": [
    "plt.plot(final_data[:,0], final_data[:,2])\n",
    "plt.show()"
   ]
  },
  {
   "cell_type": "code",
   "execution_count": null,
   "metadata": {
    "collapsed": true,
    "scrolled": false
   },
   "outputs": [],
   "source": [
    "def angle2steering(angle):\n",
    "    # assume - goes to the left\n",
    "    STRAIGHT = 105\n",
    "    \n",
    "    callib_data = np.array([[   0., 0.56029454, 0.48255242],\n",
    "                           [  30., 0.62942973,  0.42582508],\n",
    "                           [  60., 0.71093671,  0.37440057],\n",
    "                           [  90., 0.82929108,  0.31889851],\n",
    "                           [ 105., 0.80299232,  0.32973139],\n",
    "                           [ 120., 0.72895599,  0.36470582],\n",
    "                           [ 150., 0.61202919,  0.438759  ],\n",
    "                           [ 180., 0.53409126,  0.508432  ]])\n",
    "    \n",
    "    X = np.ones((8,2))\n",
    "    X[:,0] = callib_data[:,2]\n",
    "    y = callib_data[:,0]\n",
    "    \n",
    "    #fit two straight lines\n",
    "    a_l, b_l = np.linalg.lstsq(X[0:5,:], y[0:5], rcond=-1)[0]\n",
    "    a_r, b_r = np.linalg.lstsq(X[5:,:], y[5:], rcond=-1)[0]\n",
    "    \n",
    "    if angle < 0:\n",
    "        steering = a_l * angle + b_l\n",
    "        if steering < 0: return 0\n",
    "        elif steering > STRAIGHT: return STRAIGHT\n",
    "        else: return steering \n",
    "    else:\n",
    "        steering = a_r * angle + b_r\n",
    "        if steering < STRAIGHT : return STRAIGHT\n",
    "        elif steering > 180: return 180\n",
    "        else: return steering "
   ]
  },
  {
   "cell_type": "code",
   "execution_count": null,
   "metadata": {
    "collapsed": true
   },
   "outputs": [],
   "source": [
    "angle2steering(0.48)"
   ]
  },
  {
   "cell_type": "code",
   "execution_count": null,
   "metadata": {
    "collapsed": true
   },
   "outputs": [],
   "source": []
  }
 ],
 "metadata": {
  "anaconda-cloud": {},
  "kernelspec": {
   "display_name": "Python 3",
   "language": "python",
   "name": "python3"
  },
  "language_info": {
   "codemirror_mode": {
    "name": "ipython",
    "version": 3
   },
   "file_extension": ".py",
   "mimetype": "text/x-python",
   "name": "python",
   "nbconvert_exporter": "python",
   "pygments_lexer": "ipython3",
   "version": "3.5.2"
  }
 },
 "nbformat": 4,
 "nbformat_minor": 1
}
